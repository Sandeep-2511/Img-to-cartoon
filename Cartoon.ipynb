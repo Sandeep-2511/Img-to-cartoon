{
 "cells": [
  {
   "cell_type": "code",
   "execution_count": 12,
   "id": "female-blackjack",
   "metadata": {},
   "outputs": [],
   "source": [
    "# importing libraries\n",
    "import cv2\n",
    "import numpy as np\n",
    "# reading image\n",
    "img = cv2.imread(\"C:\\\\Users\\\\Sandeep\\\\Pictures\\\\Saved Pictures\\\\sandeep.jpg\")\n",
    "# Edges\n",
    "gray = cv2.cvtColor( img, cv2.COLOR_BGR2GRAY)\n",
    "gray = cv2.medianBlur(gray, 5)\n",
    "edges = cv2.adaptiveThreshold( gray, 255,\n",
    "                              cv2.ADAPTIVE_THRESH_MEAN_C,\n",
    "                              cv2. THRESH_BINARY, 9, 9)\n",
    "# Cartoonization\n",
    "color = cv2.bilateralFilter( img, 9, 250, 250)\n",
    "cartoon = cv2.bitwise_and(color, color, mask=edges)\n",
    "cv2.imshow(\"Image\", img)\n",
    "cv2.imshow(\"edges\", edges)\n",
    "cv2.imshow(\"Cartoon\", cartoon)\n",
    "cv2.waitKey(0)\n",
    "cv2.destroyAllWindows()\n"
   ]
  },
  {
   "cell_type": "code",
   "execution_count": null,
   "id": "compatible-celebration",
   "metadata": {},
   "outputs": [],
   "source": []
  }
 ],
 "metadata": {
  "kernelspec": {
   "display_name": "Python 3",
   "language": "python",
   "name": "python3"
  },
  "language_info": {
   "codemirror_mode": {
    "name": "ipython",
    "version": 3
   },
   "file_extension": ".py",
   "mimetype": "text/x-python",
   "name": "python",
   "nbconvert_exporter": "python",
   "pygments_lexer": "ipython3",
   "version": "3.9.1"
  }
 },
 "nbformat": 4,
 "nbformat_minor": 5
}
